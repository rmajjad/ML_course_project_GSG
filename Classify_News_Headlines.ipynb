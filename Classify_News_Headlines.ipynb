{
 "cells": [
  {
   "cell_type": "code",
   "execution_count": 3,
   "id": "cce2c6e2-7c3a-44eb-96be-df19e7df1051",
   "metadata": {},
   "outputs": [
    {
     "name": "stdout",
     "output_type": "stream",
     "text": [
      "Requirement already satisfied: datasets in c:\\wpy64-31220\\python-3.12.2.amd64\\lib\\site-packages (2.19.1)Note: you may need to restart the kernel to use updated packages.\n"
     ]
    },
    {
     "name": "stderr",
     "output_type": "stream",
     "text": [
      "\n",
      "[notice] A new release of pip is available: 24.0 -> 25.0.1\n",
      "[notice] To update, run: python.exe -m pip install --upgrade pip\n"
     ]
    },
    {
     "name": "stdout",
     "output_type": "stream",
     "text": [
      "\n",
      "Requirement already satisfied: filelock in c:\\wpy64-31220\\python-3.12.2.amd64\\lib\\site-packages (from datasets) (3.12.4)\n",
      "Requirement already satisfied: numpy>=1.17 in c:\\wpy64-31220\\python-3.12.2.amd64\\lib\\site-packages (from datasets) (1.26.3)\n",
      "Requirement already satisfied: pyarrow>=12.0.0 in c:\\wpy64-31220\\python-3.12.2.amd64\\lib\\site-packages (from datasets) (14.0.1)\n",
      "Requirement already satisfied: pyarrow-hotfix in c:\\wpy64-31220\\python-3.12.2.amd64\\lib\\site-packages (from datasets) (0.6)\n",
      "Requirement already satisfied: dill<0.3.9,>=0.3.0 in c:\\wpy64-31220\\python-3.12.2.amd64\\lib\\site-packages (from datasets) (0.3.8)\n",
      "Requirement already satisfied: pandas in c:\\wpy64-31220\\python-3.12.2.amd64\\lib\\site-packages (from datasets) (2.2.0)\n",
      "Requirement already satisfied: requests>=2.19.0 in c:\\wpy64-31220\\python-3.12.2.amd64\\lib\\site-packages (from datasets) (2.31.0)\n",
      "Requirement already satisfied: tqdm>=4.62.1 in c:\\wpy64-31220\\python-3.12.2.amd64\\lib\\site-packages (from datasets) (4.65.0)\n",
      "Requirement already satisfied: xxhash in c:\\wpy64-31220\\python-3.12.2.amd64\\lib\\site-packages (from datasets) (3.4.1)\n",
      "Requirement already satisfied: multiprocess in c:\\wpy64-31220\\python-3.12.2.amd64\\lib\\site-packages (from datasets) (0.70.16)\n",
      "Requirement already satisfied: fsspec<=2024.3.1,>=2023.1.0 in c:\\wpy64-31220\\python-3.12.2.amd64\\lib\\site-packages (from fsspec[http]<=2024.3.1,>=2023.1.0->datasets) (2023.9.2)\n",
      "Requirement already satisfied: aiohttp in c:\\wpy64-31220\\python-3.12.2.amd64\\lib\\site-packages (from datasets) (3.9.3)\n",
      "Requirement already satisfied: huggingface-hub>=0.21.2 in c:\\wpy64-31220\\python-3.12.2.amd64\\lib\\site-packages (from datasets) (0.23.0)\n",
      "Requirement already satisfied: packaging in c:\\users\\msys\\appdata\\roaming\\python\\python312\\site-packages (from datasets) (24.0)\n",
      "Requirement already satisfied: pyyaml>=5.1 in c:\\wpy64-31220\\python-3.12.2.amd64\\lib\\site-packages (from datasets) (6.0.1)\n",
      "Requirement already satisfied: aiosignal>=1.1.2 in c:\\wpy64-31220\\python-3.12.2.amd64\\lib\\site-packages (from aiohttp->datasets) (1.3.1)\n",
      "Requirement already satisfied: attrs>=17.3.0 in c:\\wpy64-31220\\python-3.12.2.amd64\\lib\\site-packages (from aiohttp->datasets) (23.1.0)\n",
      "Requirement already satisfied: frozenlist>=1.1.1 in c:\\wpy64-31220\\python-3.12.2.amd64\\lib\\site-packages (from aiohttp->datasets) (1.4.1)\n",
      "Requirement already satisfied: multidict<7.0,>=4.5 in c:\\wpy64-31220\\python-3.12.2.amd64\\lib\\site-packages (from aiohttp->datasets) (6.0.4)\n",
      "Requirement already satisfied: yarl<2.0,>=1.0 in c:\\wpy64-31220\\python-3.12.2.amd64\\lib\\site-packages (from aiohttp->datasets) (1.7.2)\n",
      "Requirement already satisfied: typing-extensions>=3.7.4.3 in c:\\wpy64-31220\\python-3.12.2.amd64\\lib\\site-packages (from huggingface-hub>=0.21.2->datasets) (4.9.0)\n",
      "Requirement already satisfied: charset-normalizer<4,>=2 in c:\\wpy64-31220\\python-3.12.2.amd64\\lib\\site-packages (from requests>=2.19.0->datasets) (3.2.0)\n",
      "Requirement already satisfied: idna<4,>=2.5 in c:\\wpy64-31220\\python-3.12.2.amd64\\lib\\site-packages (from requests>=2.19.0->datasets) (3.4)\n",
      "Requirement already satisfied: urllib3<3,>=1.21.1 in c:\\wpy64-31220\\python-3.12.2.amd64\\lib\\site-packages (from requests>=2.19.0->datasets) (2.0.3)\n",
      "Requirement already satisfied: certifi>=2017.4.17 in c:\\wpy64-31220\\python-3.12.2.amd64\\lib\\site-packages (from requests>=2.19.0->datasets) (2023.11.17)\n",
      "Requirement already satisfied: colorama in c:\\users\\msys\\appdata\\roaming\\python\\python312\\site-packages (from tqdm>=4.62.1->datasets) (0.4.6)\n",
      "Requirement already satisfied: python-dateutil>=2.8.2 in c:\\users\\msys\\appdata\\roaming\\python\\python312\\site-packages (from pandas->datasets) (2.9.0.post0)\n",
      "Requirement already satisfied: pytz>=2020.1 in c:\\wpy64-31220\\python-3.12.2.amd64\\lib\\site-packages (from pandas->datasets) (2023.3)\n",
      "Requirement already satisfied: tzdata>=2022.7 in c:\\wpy64-31220\\python-3.12.2.amd64\\lib\\site-packages (from pandas->datasets) (2022.7)\n",
      "Requirement already satisfied: six>=1.5 in c:\\users\\msys\\appdata\\roaming\\python\\python312\\site-packages (from python-dateutil>=2.8.2->pandas->datasets) (1.16.0)\n"
     ]
    }
   ],
   "source": [
    "pip install datasets"
   ]
  },
  {
   "cell_type": "code",
   "execution_count": 1,
   "id": "2cf777ef-5cac-42e4-8b7b-21a1aaf7706a",
   "metadata": {},
   "outputs": [],
   "source": [
    "from datasets import load_dataset\n",
    "\n"
   ]
  },
  {
   "cell_type": "code",
   "execution_count": 2,
   "id": "b9486fc3-998d-4fd3-a2d1-c175fcfb784b",
   "metadata": {},
   "outputs": [
    {
     "data": {
      "application/vnd.jupyter.widget-view+json": {
       "model_id": "ab65c698e22a49609c6e09e68613f33f",
       "version_major": 2,
       "version_minor": 0
      },
      "text/plain": [
       "VBox(children=(HTML(value='<center> <img\\nsrc=https://huggingface.co/front/assets/huggingface_logo-noborder.sv…"
      ]
     },
     "metadata": {},
     "output_type": "display_data"
    }
   ],
   "source": [
    "from huggingface_hub import login\n",
    "login()"
   ]
  },
  {
   "cell_type": "code",
   "execution_count": 37,
   "id": "53320fce-1e69-4cdf-992e-eb0392e530fd",
   "metadata": {},
   "outputs": [
    {
     "data": {
      "text/html": [
       "<div>\n",
       "<style scoped>\n",
       "    .dataframe tbody tr th:only-of-type {\n",
       "        vertical-align: middle;\n",
       "    }\n",
       "\n",
       "    .dataframe tbody tr th {\n",
       "        vertical-align: top;\n",
       "    }\n",
       "\n",
       "    .dataframe thead th {\n",
       "        text-align: right;\n",
       "    }\n",
       "</style>\n",
       "<table border=\"1\" class=\"dataframe\">\n",
       "  <thead>\n",
       "    <tr style=\"text-align: right;\">\n",
       "      <th></th>\n",
       "      <th>text</th>\n",
       "      <th>label</th>\n",
       "    </tr>\n",
       "  </thead>\n",
       "  <tbody>\n",
       "    <tr>\n",
       "      <th>0</th>\n",
       "      <td>Wall St. Bears Claw Back Into the Black (Reute...</td>\n",
       "      <td>2</td>\n",
       "    </tr>\n",
       "    <tr>\n",
       "      <th>1</th>\n",
       "      <td>Carlyle Looks Toward Commercial Aerospace (Reu...</td>\n",
       "      <td>2</td>\n",
       "    </tr>\n",
       "    <tr>\n",
       "      <th>2</th>\n",
       "      <td>Oil and Economy Cloud Stocks' Outlook (Reuters...</td>\n",
       "      <td>2</td>\n",
       "    </tr>\n",
       "    <tr>\n",
       "      <th>3</th>\n",
       "      <td>Iraq Halts Oil Exports from Main Southern Pipe...</td>\n",
       "      <td>2</td>\n",
       "    </tr>\n",
       "    <tr>\n",
       "      <th>4</th>\n",
       "      <td>Oil prices soar to all-time record, posing new...</td>\n",
       "      <td>2</td>\n",
       "    </tr>\n",
       "    <tr>\n",
       "      <th>...</th>\n",
       "      <td>...</td>\n",
       "      <td>...</td>\n",
       "    </tr>\n",
       "    <tr>\n",
       "      <th>95</th>\n",
       "      <td>Gene Blocker Turns Monkeys Into Workaholics - ...</td>\n",
       "      <td>3</td>\n",
       "    </tr>\n",
       "    <tr>\n",
       "      <th>96</th>\n",
       "      <td>Dolphins Too Have Born Socialites (Reuters) Re...</td>\n",
       "      <td>3</td>\n",
       "    </tr>\n",
       "    <tr>\n",
       "      <th>97</th>\n",
       "      <td>What's in a Name? Well, Matt Is Sexier Than Pa...</td>\n",
       "      <td>3</td>\n",
       "    </tr>\n",
       "    <tr>\n",
       "      <th>98</th>\n",
       "      <td>UK Scientists Allowed to Clone Human Embryos (...</td>\n",
       "      <td>3</td>\n",
       "    </tr>\n",
       "    <tr>\n",
       "      <th>99</th>\n",
       "      <td>Russian Alien Spaceship Claims Raise Eyebrows,...</td>\n",
       "      <td>3</td>\n",
       "    </tr>\n",
       "  </tbody>\n",
       "</table>\n",
       "<p>100 rows × 2 columns</p>\n",
       "</div>"
      ],
      "text/plain": [
       "                                                 text  label\n",
       "0   Wall St. Bears Claw Back Into the Black (Reute...      2\n",
       "1   Carlyle Looks Toward Commercial Aerospace (Reu...      2\n",
       "2   Oil and Economy Cloud Stocks' Outlook (Reuters...      2\n",
       "3   Iraq Halts Oil Exports from Main Southern Pipe...      2\n",
       "4   Oil prices soar to all-time record, posing new...      2\n",
       "..                                                ...    ...\n",
       "95  Gene Blocker Turns Monkeys Into Workaholics - ...      3\n",
       "96  Dolphins Too Have Born Socialites (Reuters) Re...      3\n",
       "97  What's in a Name? Well, Matt Is Sexier Than Pa...      3\n",
       "98  UK Scientists Allowed to Clone Human Embryos (...      3\n",
       "99  Russian Alien Spaceship Claims Raise Eyebrows,...      3\n",
       "\n",
       "[100 rows x 2 columns]"
      ]
     },
     "execution_count": 37,
     "metadata": {},
     "output_type": "execute_result"
    }
   ],
   "source": [
    "# 1. تحميل بيانات AG News\n",
    "import requests\n",
    "import pandas as pd\n",
    "\n",
    "# اخذ الداتا من API\n",
    "url = \"https://datasets-server.huggingface.co/rows?dataset=wangrongsheng%2Fag_news&config=default&split=train&offset=0&length=100\"\n",
    "\n",
    "response = requests.get(url)\n",
    "\n",
    "data = response.json()  # convert res to JSON\n",
    "rows = data[\"rows\"]  # استخراج الداتا الفعلية\n",
    "df = pd.DataFrame([row[\"row\"] for row in rows])\n",
    "df"
   ]
  },
  {
   "cell_type": "code",
   "execution_count": 49,
   "id": "71f2346c-e70e-42c4-b464-1ae14d10bdd4",
   "metadata": {},
   "outputs": [
    {
     "data": {
      "text/plain": [
       "text     22\n",
       "label    22\n",
       "dtype: int64"
      ]
     },
     "execution_count": 49,
     "metadata": {},
     "output_type": "execute_result"
    }
   ],
   "source": [
    "df_label_3 = df[df['label'] == 3]\n",
    "df_label_3.count()"
   ]
  },
  {
   "cell_type": "code",
   "execution_count": 38,
   "id": "978e34b7-aff0-4f55-aeb9-f03faae8ab07",
   "metadata": {},
   "outputs": [],
   "source": [
    "import numpy as np\n",
    "from sklearn.model_selection import train_test_split\n",
    "from sklearn.feature_extraction.text import TfidfVectorizer  # تحويل النصوص إلى ميزات عددية\n",
    "from sklearn.linear_model import LogisticRegression\n",
    "from sklearn.tree import DecisionTreeClassifier\n",
    "from sklearn.neighbors import KNeighborsClassifier\n",
    "from sklearn.ensemble import AdaBoostClassifier\n",
    "from sklearn.metrics import accuracy_score, classification_report"
   ]
  },
  {
   "cell_type": "code",
   "execution_count": 39,
   "id": "e2adaa6a-086c-4b58-b390-b0f45f8c2b27",
   "metadata": {},
   "outputs": [],
   "source": [
    "def preprocess_text(text):\n",
    "    \"\"\"تنظيف النصوص عبر تحويلها إلى حروف صغيرة فقط.\"\"\"\n",
    "    return text.lower()"
   ]
  },
  {
   "cell_type": "code",
   "execution_count": 40,
   "id": "3f40c173-d655-4f50-9cb7-2e6284d18634",
   "metadata": {},
   "outputs": [],
   "source": [
    "# تطبيق المعالجة المسبقة على النصوص\n",
    "df[\"text\"] = df[\"text\"].apply(preprocess_text)"
   ]
  },
  {
   "cell_type": "code",
   "execution_count": 41,
   "id": "d2aac0d0-40fd-4d78-a316-dab31919dfa9",
   "metadata": {},
   "outputs": [],
   "source": [
    "# 2. تقسيم البيانات إلى train and test\n",
    "X_train, X_test, y_train, y_test = train_test_split(\n",
    "    df[\"text\"], df[\"label\"], test_size=0.2, random_state=42\n",
    ")"
   ]
  },
  {
   "cell_type": "code",
   "execution_count": 43,
   "id": "d5592db9-7536-4901-8a54-f9d71fe31ab5",
   "metadata": {},
   "outputs": [],
   "source": [
    "# 3. convert text into Numerical features usnig TF-IDF\n",
    "vectorizer = TfidfVectorizer(max_features=5000)  # select 5000 feature (لزيادة الكفاءة)\n",
    "X_train_tfidf = vectorizer.fit_transform(X_train)\n",
    "X_test_tfidf = vectorizer.transform(X_test)"
   ]
  },
  {
   "cell_type": "code",
   "execution_count": 44,
   "id": "cb76a1c9-a336-41d2-ac6e-da8e5a541c52",
   "metadata": {},
   "outputs": [],
   "source": [
    "# 4. تدريب عدة نماذج ومقارنتها\n",
    "models = {\n",
    "    \"Logistic Regression\": LogisticRegression(),\n",
    "    \"Decision Tree\": DecisionTreeClassifier(),\n",
    "    \"KNN\": KNeighborsClassifier(n_neighbors=5),\n",
    "    \"AdaBoost\": AdaBoostClassifier()\n",
    "}"
   ]
  },
  {
   "cell_type": "code",
   "execution_count": 45,
   "id": "b4e0e11f-b6e3-49e2-b350-c0352092ca97",
   "metadata": {},
   "outputs": [
    {
     "name": "stdout",
     "output_type": "stream",
     "text": [
      "Training Logistic Regression...\n",
      "Logistic Regression Accuracy: 0.8500\n",
      "\n",
      "              precision    recall  f1-score   support\n",
      "\n",
      "           2       0.85      1.00      0.92        17\n",
      "           3       0.00      0.00      0.00         3\n",
      "\n",
      "    accuracy                           0.85        20\n",
      "   macro avg       0.42      0.50      0.46        20\n",
      "weighted avg       0.72      0.85      0.78        20\n",
      "\n",
      "Training Decision Tree...\n",
      "Decision Tree Accuracy: 0.9500\n",
      "\n",
      "              precision    recall  f1-score   support\n",
      "\n",
      "           2       1.00      0.94      0.97        17\n",
      "           3       0.75      1.00      0.86         3\n",
      "\n",
      "    accuracy                           0.95        20\n",
      "   macro avg       0.88      0.97      0.91        20\n",
      "weighted avg       0.96      0.95      0.95        20\n",
      "\n",
      "Training KNN...\n",
      "KNN Accuracy: 0.9500\n",
      "\n",
      "              precision    recall  f1-score   support\n",
      "\n",
      "           2       0.94      1.00      0.97        17\n",
      "           3       1.00      0.67      0.80         3\n",
      "\n",
      "    accuracy                           0.95        20\n",
      "   macro avg       0.97      0.83      0.89        20\n",
      "weighted avg       0.95      0.95      0.95        20\n",
      "\n",
      "Training AdaBoost...\n"
     ]
    },
    {
     "name": "stderr",
     "output_type": "stream",
     "text": [
      "C:\\WPy64-31220\\python-3.12.2.amd64\\Lib\\site-packages\\sklearn\\metrics\\_classification.py:1497: UndefinedMetricWarning: Precision is ill-defined and being set to 0.0 in labels with no predicted samples. Use `zero_division` parameter to control this behavior.\n",
      "  _warn_prf(average, modifier, f\"{metric.capitalize()} is\", len(result))\n",
      "C:\\WPy64-31220\\python-3.12.2.amd64\\Lib\\site-packages\\sklearn\\metrics\\_classification.py:1497: UndefinedMetricWarning: Precision is ill-defined and being set to 0.0 in labels with no predicted samples. Use `zero_division` parameter to control this behavior.\n",
      "  _warn_prf(average, modifier, f\"{metric.capitalize()} is\", len(result))\n",
      "C:\\WPy64-31220\\python-3.12.2.amd64\\Lib\\site-packages\\sklearn\\metrics\\_classification.py:1497: UndefinedMetricWarning: Precision is ill-defined and being set to 0.0 in labels with no predicted samples. Use `zero_division` parameter to control this behavior.\n",
      "  _warn_prf(average, modifier, f\"{metric.capitalize()} is\", len(result))\n"
     ]
    },
    {
     "name": "stdout",
     "output_type": "stream",
     "text": [
      "AdaBoost Accuracy: 0.9000\n",
      "\n",
      "              precision    recall  f1-score   support\n",
      "\n",
      "           2       0.94      0.94      0.94        17\n",
      "           3       0.67      0.67      0.67         3\n",
      "\n",
      "    accuracy                           0.90        20\n",
      "   macro avg       0.80      0.80      0.80        20\n",
      "weighted avg       0.90      0.90      0.90        20\n",
      "\n"
     ]
    },
    {
     "name": "stderr",
     "output_type": "stream",
     "text": [
      "C:\\WPy64-31220\\python-3.12.2.amd64\\Lib\\site-packages\\sklearn\\ensemble\\_weight_boosting.py:519: FutureWarning: The SAMME.R algorithm (the default) is deprecated and will be removed in 1.6. Use the SAMME algorithm to circumvent this warning.\n",
      "  warnings.warn(\n"
     ]
    }
   ],
   "source": [
    "# تخزين نتائج الأداء\n",
    "results = {}\n",
    "\n",
    "for name, model in models.items():\n",
    "    print(f\"Training {name}...\")\n",
    "    model.fit(X_train_tfidf, y_train)  # تدريب النموذج\n",
    "    y_pred = model.predict(X_test_tfidf)  # إجراء التنبؤات\n",
    "    accuracy = accuracy_score(y_test, y_pred)  # حساب الدقة\n",
    "    results[name] = accuracy\n",
    "    print(f\"{name} Accuracy: {accuracy:.4f}\\n\")\n",
    "    print(classification_report(y_test, y_pred))"
   ]
  },
  {
   "cell_type": "code",
   "execution_count": null,
   "id": "5b873523-224e-461c-b220-659784bdc5ff",
   "metadata": {},
   "outputs": [],
   "source": []
  },
  {
   "cell_type": "code",
   "execution_count": null,
   "id": "a447c507-2027-40be-b3d4-17519d47dc69",
   "metadata": {},
   "outputs": [],
   "source": []
  }
 ],
 "metadata": {
  "kernelspec": {
   "display_name": "Python 3 (ipykernel)",
   "language": "python",
   "name": "python3"
  },
  "language_info": {
   "codemirror_mode": {
    "name": "ipython",
    "version": 3
   },
   "file_extension": ".py",
   "mimetype": "text/x-python",
   "name": "python",
   "nbconvert_exporter": "python",
   "pygments_lexer": "ipython3",
   "version": "3.12.2"
  }
 },
 "nbformat": 4,
 "nbformat_minor": 5
}
