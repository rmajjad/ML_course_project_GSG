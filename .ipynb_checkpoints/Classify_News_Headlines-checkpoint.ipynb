{
 "cells": [
  {
   "cell_type": "code",
   "execution_count": 3,
   "id": "cce2c6e2-7c3a-44eb-96be-df19e7df1051",
   "metadata": {},
   "outputs": [
    {
     "name": "stdout",
     "output_type": "stream",
     "text": [
      "Requirement already satisfied: datasets in c:\\wpy64-31220\\python-3.12.2.amd64\\lib\\site-packages (2.19.1)Note: you may need to restart the kernel to use updated packages.\n"
     ]
    },
    {
     "name": "stderr",
     "output_type": "stream",
     "text": [
      "\n",
      "[notice] A new release of pip is available: 24.0 -> 25.0.1\n",
      "[notice] To update, run: python.exe -m pip install --upgrade pip\n"
     ]
    },
    {
     "name": "stdout",
     "output_type": "stream",
     "text": [
      "\n",
      "Requirement already satisfied: filelock in c:\\wpy64-31220\\python-3.12.2.amd64\\lib\\site-packages (from datasets) (3.12.4)\n",
      "Requirement already satisfied: numpy>=1.17 in c:\\wpy64-31220\\python-3.12.2.amd64\\lib\\site-packages (from datasets) (1.26.3)\n",
      "Requirement already satisfied: pyarrow>=12.0.0 in c:\\wpy64-31220\\python-3.12.2.amd64\\lib\\site-packages (from datasets) (14.0.1)\n",
      "Requirement already satisfied: pyarrow-hotfix in c:\\wpy64-31220\\python-3.12.2.amd64\\lib\\site-packages (from datasets) (0.6)\n",
      "Requirement already satisfied: dill<0.3.9,>=0.3.0 in c:\\wpy64-31220\\python-3.12.2.amd64\\lib\\site-packages (from datasets) (0.3.8)\n",
      "Requirement already satisfied: pandas in c:\\wpy64-31220\\python-3.12.2.amd64\\lib\\site-packages (from datasets) (2.2.0)\n",
      "Requirement already satisfied: requests>=2.19.0 in c:\\wpy64-31220\\python-3.12.2.amd64\\lib\\site-packages (from datasets) (2.31.0)\n",
      "Requirement already satisfied: tqdm>=4.62.1 in c:\\wpy64-31220\\python-3.12.2.amd64\\lib\\site-packages (from datasets) (4.65.0)\n",
      "Requirement already satisfied: xxhash in c:\\wpy64-31220\\python-3.12.2.amd64\\lib\\site-packages (from datasets) (3.4.1)\n",
      "Requirement already satisfied: multiprocess in c:\\wpy64-31220\\python-3.12.2.amd64\\lib\\site-packages (from datasets) (0.70.16)\n",
      "Requirement already satisfied: fsspec<=2024.3.1,>=2023.1.0 in c:\\wpy64-31220\\python-3.12.2.amd64\\lib\\site-packages (from fsspec[http]<=2024.3.1,>=2023.1.0->datasets) (2023.9.2)\n",
      "Requirement already satisfied: aiohttp in c:\\wpy64-31220\\python-3.12.2.amd64\\lib\\site-packages (from datasets) (3.9.3)\n",
      "Requirement already satisfied: huggingface-hub>=0.21.2 in c:\\wpy64-31220\\python-3.12.2.amd64\\lib\\site-packages (from datasets) (0.23.0)\n",
      "Requirement already satisfied: packaging in c:\\users\\msys\\appdata\\roaming\\python\\python312\\site-packages (from datasets) (24.0)\n",
      "Requirement already satisfied: pyyaml>=5.1 in c:\\wpy64-31220\\python-3.12.2.amd64\\lib\\site-packages (from datasets) (6.0.1)\n",
      "Requirement already satisfied: aiosignal>=1.1.2 in c:\\wpy64-31220\\python-3.12.2.amd64\\lib\\site-packages (from aiohttp->datasets) (1.3.1)\n",
      "Requirement already satisfied: attrs>=17.3.0 in c:\\wpy64-31220\\python-3.12.2.amd64\\lib\\site-packages (from aiohttp->datasets) (23.1.0)\n",
      "Requirement already satisfied: frozenlist>=1.1.1 in c:\\wpy64-31220\\python-3.12.2.amd64\\lib\\site-packages (from aiohttp->datasets) (1.4.1)\n",
      "Requirement already satisfied: multidict<7.0,>=4.5 in c:\\wpy64-31220\\python-3.12.2.amd64\\lib\\site-packages (from aiohttp->datasets) (6.0.4)\n",
      "Requirement already satisfied: yarl<2.0,>=1.0 in c:\\wpy64-31220\\python-3.12.2.amd64\\lib\\site-packages (from aiohttp->datasets) (1.7.2)\n",
      "Requirement already satisfied: typing-extensions>=3.7.4.3 in c:\\wpy64-31220\\python-3.12.2.amd64\\lib\\site-packages (from huggingface-hub>=0.21.2->datasets) (4.9.0)\n",
      "Requirement already satisfied: charset-normalizer<4,>=2 in c:\\wpy64-31220\\python-3.12.2.amd64\\lib\\site-packages (from requests>=2.19.0->datasets) (3.2.0)\n",
      "Requirement already satisfied: idna<4,>=2.5 in c:\\wpy64-31220\\python-3.12.2.amd64\\lib\\site-packages (from requests>=2.19.0->datasets) (3.4)\n",
      "Requirement already satisfied: urllib3<3,>=1.21.1 in c:\\wpy64-31220\\python-3.12.2.amd64\\lib\\site-packages (from requests>=2.19.0->datasets) (2.0.3)\n",
      "Requirement already satisfied: certifi>=2017.4.17 in c:\\wpy64-31220\\python-3.12.2.amd64\\lib\\site-packages (from requests>=2.19.0->datasets) (2023.11.17)\n",
      "Requirement already satisfied: colorama in c:\\users\\msys\\appdata\\roaming\\python\\python312\\site-packages (from tqdm>=4.62.1->datasets) (0.4.6)\n",
      "Requirement already satisfied: python-dateutil>=2.8.2 in c:\\users\\msys\\appdata\\roaming\\python\\python312\\site-packages (from pandas->datasets) (2.9.0.post0)\n",
      "Requirement already satisfied: pytz>=2020.1 in c:\\wpy64-31220\\python-3.12.2.amd64\\lib\\site-packages (from pandas->datasets) (2023.3)\n",
      "Requirement already satisfied: tzdata>=2022.7 in c:\\wpy64-31220\\python-3.12.2.amd64\\lib\\site-packages (from pandas->datasets) (2022.7)\n",
      "Requirement already satisfied: six>=1.5 in c:\\users\\msys\\appdata\\roaming\\python\\python312\\site-packages (from python-dateutil>=2.8.2->pandas->datasets) (1.16.0)\n"
     ]
    }
   ],
   "source": [
    "pip install datasets"
   ]
  },
  {
   "cell_type": "code",
   "execution_count": 29,
   "id": "2cf777ef-5cac-42e4-8b7b-21a1aaf7706a",
   "metadata": {},
   "outputs": [],
   "source": [
    "from datasets import load_dataset\n",
    "\n"
   ]
  },
  {
   "cell_type": "code",
   "execution_count": 2,
   "id": "b9486fc3-998d-4fd3-a2d1-c175fcfb784b",
   "metadata": {},
   "outputs": [
    {
     "data": {
      "application/vnd.jupyter.widget-view+json": {
       "model_id": "ab65c698e22a49609c6e09e68613f33f",
       "version_major": 2,
       "version_minor": 0
      },
      "text/plain": [
       "VBox(children=(HTML(value='<center> <img\\nsrc=https://huggingface.co/front/assets/huggingface_logo-noborder.sv…"
      ]
     },
     "metadata": {},
     "output_type": "display_data"
    }
   ],
   "source": [
    "from huggingface_hub import login\n",
    "login()"
   ]
  },
  {
   "cell_type": "code",
   "execution_count": 69,
   "id": "53320fce-1e69-4cdf-992e-eb0392e530fd",
   "metadata": {},
   "outputs": [
    {
     "data": {
      "text/html": [
       "<div>\n",
       "<style scoped>\n",
       "    .dataframe tbody tr th:only-of-type {\n",
       "        vertical-align: middle;\n",
       "    }\n",
       "\n",
       "    .dataframe tbody tr th {\n",
       "        vertical-align: top;\n",
       "    }\n",
       "\n",
       "    .dataframe thead th {\n",
       "        text-align: right;\n",
       "    }\n",
       "</style>\n",
       "<table border=\"1\" class=\"dataframe\">\n",
       "  <thead>\n",
       "    <tr style=\"text-align: right;\">\n",
       "      <th></th>\n",
       "      <th>text</th>\n",
       "      <th>label</th>\n",
       "    </tr>\n",
       "  </thead>\n",
       "  <tbody>\n",
       "    <tr>\n",
       "      <th>0</th>\n",
       "      <td>Wall St. Bears Claw Back Into the Black (Reute...</td>\n",
       "      <td>2</td>\n",
       "    </tr>\n",
       "    <tr>\n",
       "      <th>1</th>\n",
       "      <td>Carlyle Looks Toward Commercial Aerospace (Reu...</td>\n",
       "      <td>2</td>\n",
       "    </tr>\n",
       "    <tr>\n",
       "      <th>2</th>\n",
       "      <td>Oil and Economy Cloud Stocks' Outlook (Reuters...</td>\n",
       "      <td>2</td>\n",
       "    </tr>\n",
       "    <tr>\n",
       "      <th>3</th>\n",
       "      <td>Iraq Halts Oil Exports from Main Southern Pipe...</td>\n",
       "      <td>2</td>\n",
       "    </tr>\n",
       "    <tr>\n",
       "      <th>4</th>\n",
       "      <td>Oil prices soar to all-time record, posing new...</td>\n",
       "      <td>2</td>\n",
       "    </tr>\n",
       "    <tr>\n",
       "      <th>...</th>\n",
       "      <td>...</td>\n",
       "      <td>...</td>\n",
       "    </tr>\n",
       "    <tr>\n",
       "      <th>195</th>\n",
       "      <td>Eriksson doesn #39;t feel any extra pressure f...</td>\n",
       "      <td>1</td>\n",
       "    </tr>\n",
       "    <tr>\n",
       "      <th>196</th>\n",
       "      <td>Injured Heskey to miss England friendly NEWCAS...</td>\n",
       "      <td>1</td>\n",
       "    </tr>\n",
       "    <tr>\n",
       "      <th>197</th>\n",
       "      <td>Staples Profit Up, to Enter China Market  NEW ...</td>\n",
       "      <td>2</td>\n",
       "    </tr>\n",
       "    <tr>\n",
       "      <th>198</th>\n",
       "      <td>Delegation Is Delayed Before Reaching Najaf AG...</td>\n",
       "      <td>0</td>\n",
       "    </tr>\n",
       "    <tr>\n",
       "      <th>199</th>\n",
       "      <td>Consumer Prices Down, Industry Output Up  WASH...</td>\n",
       "      <td>2</td>\n",
       "    </tr>\n",
       "  </tbody>\n",
       "</table>\n",
       "<p>200 rows × 2 columns</p>\n",
       "</div>"
      ],
      "text/plain": [
       "                                                  text  label\n",
       "0    Wall St. Bears Claw Back Into the Black (Reute...      2\n",
       "1    Carlyle Looks Toward Commercial Aerospace (Reu...      2\n",
       "2    Oil and Economy Cloud Stocks' Outlook (Reuters...      2\n",
       "3    Iraq Halts Oil Exports from Main Southern Pipe...      2\n",
       "4    Oil prices soar to all-time record, posing new...      2\n",
       "..                                                 ...    ...\n",
       "195  Eriksson doesn #39;t feel any extra pressure f...      1\n",
       "196  Injured Heskey to miss England friendly NEWCAS...      1\n",
       "197  Staples Profit Up, to Enter China Market  NEW ...      2\n",
       "198  Delegation Is Delayed Before Reaching Najaf AG...      0\n",
       "199  Consumer Prices Down, Industry Output Up  WASH...      2\n",
       "\n",
       "[200 rows x 2 columns]"
      ]
     },
     "execution_count": 69,
     "metadata": {},
     "output_type": "execute_result"
    }
   ],
   "source": [
    "# 1. تحميل بيانات AG News\n",
    "import requests\n",
    "import pandas as pd\n",
    "\n",
    "# اخذ الداتا من API\n",
    "train_url = \"https://datasets-server.huggingface.co/rows?dataset=wangrongsheng%2Fag_news&config=default&split=train&offset=0\"\n",
    "test_url = \"https://datasets-server.huggingface.co/rows?dataset=wangrongsheng%2Fag_news&config=default&split=test&offset=0\"\n",
    "\n",
    "train_response = requests.get(train_url)\n",
    "train_data = train_response.json()[\"rows\"]\n",
    "train_df = pd.DataFrame([row[\"row\"] for row in train_data])\n",
    "\n",
    "test_response = requests.get(test_url)\n",
    "test_data = test_response.json()[\"rows\"]\n",
    "test_df = pd.DataFrame([row[\"row\"] for row in test_data])\n",
    "\n",
    "df = pd.concat([train_df, test_df], ignore_index=True)\n",
    "df"
   ]
  },
  {
   "cell_type": "code",
   "execution_count": 70,
   "id": "a983a8b1-5a11-4dc7-b435-4cfdb68dec1a",
   "metadata": {},
   "outputs": [
    {
     "data": {
      "text/plain": [
       "label\n",
       "2    90\n",
       "3    59\n",
       "0    30\n",
       "1    21\n",
       "Name: count, dtype: int64"
      ]
     },
     "execution_count": 70,
     "metadata": {},
     "output_type": "execute_result"
    }
   ],
   "source": [
    "label_counts = df['label'].value_counts()\n",
    "label_counts"
   ]
  },
  {
   "cell_type": "code",
   "execution_count": 111,
   "id": "978e34b7-aff0-4f55-aeb9-f03faae8ab07",
   "metadata": {},
   "outputs": [],
   "source": [
    "import numpy as np\n",
    "from sklearn.model_selection import train_test_split\n",
    "from sklearn.feature_extraction.text import TfidfVectorizer  # تحويل النصوص إلى ميزات عددية\n",
    "from sklearn.linear_model import LogisticRegression\n",
    "from sklearn.tree import DecisionTreeClassifier\n",
    "from sklearn.neighbors import KNeighborsClassifier\n",
    "from sklearn.ensemble import AdaBoostClassifier\n",
    "from sklearn.metrics import accuracy_score, classification_report"
   ]
  },
  {
   "cell_type": "code",
   "execution_count": 112,
   "id": "e2adaa6a-086c-4b58-b390-b0f45f8c2b27",
   "metadata": {},
   "outputs": [],
   "source": [
    "def preprocess_text(text):\n",
    "    \"\"\"تنظيف النصوص عبر تحويلها إلى حروف صغيرة فقط.\"\"\"\n",
    "    return text.lower()"
   ]
  },
  {
   "cell_type": "code",
   "execution_count": 113,
   "id": "3f40c173-d655-4f50-9cb7-2e6284d18634",
   "metadata": {},
   "outputs": [],
   "source": [
    "# تطبيق المعالجة المسبقة على النصوص\n",
    "df[\"text\"] = df[\"text\"].apply(preprocess_text)"
   ]
  },
  {
   "cell_type": "code",
   "execution_count": 114,
   "id": "021a9cda-ce8b-4575-9274-91a617177b74",
   "metadata": {},
   "outputs": [
    {
     "data": {
      "text/html": [
       "<div>\n",
       "<style scoped>\n",
       "    .dataframe tbody tr th:only-of-type {\n",
       "        vertical-align: middle;\n",
       "    }\n",
       "\n",
       "    .dataframe tbody tr th {\n",
       "        vertical-align: top;\n",
       "    }\n",
       "\n",
       "    .dataframe thead th {\n",
       "        text-align: right;\n",
       "    }\n",
       "</style>\n",
       "<table border=\"1\" class=\"dataframe\">\n",
       "  <thead>\n",
       "    <tr style=\"text-align: right;\">\n",
       "      <th></th>\n",
       "      <th>text</th>\n",
       "      <th>label</th>\n",
       "    </tr>\n",
       "  </thead>\n",
       "  <tbody>\n",
       "    <tr>\n",
       "      <th>0</th>\n",
       "      <td>wall st. bears claw back into the black (reute...</td>\n",
       "      <td>2</td>\n",
       "    </tr>\n",
       "    <tr>\n",
       "      <th>1</th>\n",
       "      <td>carlyle looks toward commercial aerospace (reu...</td>\n",
       "      <td>2</td>\n",
       "    </tr>\n",
       "    <tr>\n",
       "      <th>2</th>\n",
       "      <td>oil and economy cloud stocks' outlook (reuters...</td>\n",
       "      <td>2</td>\n",
       "    </tr>\n",
       "    <tr>\n",
       "      <th>3</th>\n",
       "      <td>iraq halts oil exports from main southern pipe...</td>\n",
       "      <td>2</td>\n",
       "    </tr>\n",
       "    <tr>\n",
       "      <th>4</th>\n",
       "      <td>oil prices soar to all-time record, posing new...</td>\n",
       "      <td>2</td>\n",
       "    </tr>\n",
       "    <tr>\n",
       "      <th>...</th>\n",
       "      <td>...</td>\n",
       "      <td>...</td>\n",
       "    </tr>\n",
       "    <tr>\n",
       "      <th>195</th>\n",
       "      <td>eriksson doesn #39;t feel any extra pressure f...</td>\n",
       "      <td>1</td>\n",
       "    </tr>\n",
       "    <tr>\n",
       "      <th>196</th>\n",
       "      <td>injured heskey to miss england friendly newcas...</td>\n",
       "      <td>1</td>\n",
       "    </tr>\n",
       "    <tr>\n",
       "      <th>197</th>\n",
       "      <td>staples profit up, to enter china market  new ...</td>\n",
       "      <td>2</td>\n",
       "    </tr>\n",
       "    <tr>\n",
       "      <th>198</th>\n",
       "      <td>delegation is delayed before reaching najaf ag...</td>\n",
       "      <td>0</td>\n",
       "    </tr>\n",
       "    <tr>\n",
       "      <th>199</th>\n",
       "      <td>consumer prices down, industry output up  wash...</td>\n",
       "      <td>2</td>\n",
       "    </tr>\n",
       "  </tbody>\n",
       "</table>\n",
       "<p>200 rows × 2 columns</p>\n",
       "</div>"
      ],
      "text/plain": [
       "                                                  text  label\n",
       "0    wall st. bears claw back into the black (reute...      2\n",
       "1    carlyle looks toward commercial aerospace (reu...      2\n",
       "2    oil and economy cloud stocks' outlook (reuters...      2\n",
       "3    iraq halts oil exports from main southern pipe...      2\n",
       "4    oil prices soar to all-time record, posing new...      2\n",
       "..                                                 ...    ...\n",
       "195  eriksson doesn #39;t feel any extra pressure f...      1\n",
       "196  injured heskey to miss england friendly newcas...      1\n",
       "197  staples profit up, to enter china market  new ...      2\n",
       "198  delegation is delayed before reaching najaf ag...      0\n",
       "199  consumer prices down, industry output up  wash...      2\n",
       "\n",
       "[200 rows x 2 columns]"
      ]
     },
     "execution_count": 114,
     "metadata": {},
     "output_type": "execute_result"
    }
   ],
   "source": [
    "df"
   ]
  },
  {
   "cell_type": "code",
   "execution_count": 115,
   "id": "d2aac0d0-40fd-4d78-a316-dab31919dfa9",
   "metadata": {},
   "outputs": [],
   "source": [
    "# 2. تقسيم البيانات إلى train and test\n",
    "X_train, X_test, y_train, y_test = train_test_split(\n",
    "    df[\"text\"], df[\"label\"], test_size=0.2, random_state=42\n",
    ")\n"
   ]
  },
  {
   "cell_type": "code",
   "execution_count": 122,
   "id": "d5592db9-7536-4901-8a54-f9d71fe31ab5",
   "metadata": {},
   "outputs": [],
   "source": [
    "# 3. convert text into Numerical features usnig TF-IDF\n",
    "vectorizer = TfidfVectorizer(min_df=2,max_df=0.9)  \n",
    "X_train_tfidf = vectorizer.fit_transform(X_train)\n",
    "X_test_tfidf = vectorizer.transform(X_test)"
   ]
  },
  {
   "cell_type": "code",
   "execution_count": 123,
   "id": "cb76a1c9-a336-41d2-ac6e-da8e5a541c52",
   "metadata": {},
   "outputs": [],
   "source": [
    "# 4. تدريب عدة models ومقارنتها\n",
    "models = {\n",
    "    \"Logistic Regression\": LogisticRegression(),\n",
    "    \"Decision Tree\": DecisionTreeClassifier(),\n",
    "    \"KNN\": KNeighborsClassifier(n_neighbors=5),\n",
    "    \"AdaBoost\": AdaBoostClassifier(),\n",
    "}"
   ]
  },
  {
   "cell_type": "code",
   "execution_count": 124,
   "id": "b4e0e11f-b6e3-49e2-b350-c0352092ca97",
   "metadata": {},
   "outputs": [
    {
     "name": "stdout",
     "output_type": "stream",
     "text": [
      "Training Logistic Regression...\n",
      "Logistic Regression Accuracy: 0.57500\n",
      "\n",
      "              precision    recall  f1-score   support\n",
      "\n",
      "           0       0.00      0.00      0.00         7\n",
      "           1       0.00      0.00      0.00         2\n",
      "           2       0.55      0.95      0.69        19\n",
      "           3       0.71      0.42      0.53        12\n",
      "\n",
      "    accuracy                           0.57        40\n",
      "   macro avg       0.31      0.34      0.30        40\n",
      "weighted avg       0.47      0.57      0.49        40\n",
      "\n",
      "Training Decision Tree...\n",
      "Decision Tree Accuracy: 0.57500\n",
      "\n",
      "              precision    recall  f1-score   support\n",
      "\n",
      "           0       0.50      0.29      0.36         7\n",
      "           1       0.25      0.50      0.33         2\n",
      "           2       0.74      0.74      0.74        19\n",
      "           3       0.46      0.50      0.48        12\n",
      "\n",
      "    accuracy                           0.57        40\n",
      "   macro avg       0.49      0.51      0.48        40\n",
      "weighted avg       0.59      0.57      0.57        40\n",
      "\n",
      "Training KNN...\n",
      "KNN Accuracy: 0.70000\n",
      "\n",
      "              precision    recall  f1-score   support\n",
      "\n",
      "           0       0.67      0.57      0.62         7\n",
      "           1       0.00      0.00      0.00         2\n",
      "           2       0.78      0.95      0.86        19\n",
      "           3       0.75      0.50      0.60        12\n",
      "\n",
      "    accuracy                           0.70        40\n",
      "   macro avg       0.55      0.50      0.52        40\n",
      "weighted avg       0.71      0.70      0.69        40\n",
      "\n",
      "Training AdaBoost...\n",
      "AdaBoost Accuracy: 0.52500\n",
      "\n",
      "              precision    recall  f1-score   support\n",
      "\n",
      "           0       0.00      0.00      0.00         7\n",
      "           1       0.00      0.00      0.00         2\n",
      "           2       0.55      0.89      0.68        19\n",
      "           3       0.50      0.33      0.40        12\n",
      "\n",
      "    accuracy                           0.53        40\n",
      "   macro avg       0.26      0.31      0.27        40\n",
      "weighted avg       0.41      0.53      0.44        40\n",
      "\n"
     ]
    },
    {
     "name": "stderr",
     "output_type": "stream",
     "text": [
      "C:\\WPy64-31220\\python-3.12.2.amd64\\Lib\\site-packages\\sklearn\\metrics\\_classification.py:1497: UndefinedMetricWarning: Precision is ill-defined and being set to 0.0 in labels with no predicted samples. Use `zero_division` parameter to control this behavior.\n",
      "  _warn_prf(average, modifier, f\"{metric.capitalize()} is\", len(result))\n",
      "C:\\WPy64-31220\\python-3.12.2.amd64\\Lib\\site-packages\\sklearn\\metrics\\_classification.py:1497: UndefinedMetricWarning: Precision is ill-defined and being set to 0.0 in labels with no predicted samples. Use `zero_division` parameter to control this behavior.\n",
      "  _warn_prf(average, modifier, f\"{metric.capitalize()} is\", len(result))\n",
      "C:\\WPy64-31220\\python-3.12.2.amd64\\Lib\\site-packages\\sklearn\\metrics\\_classification.py:1497: UndefinedMetricWarning: Precision is ill-defined and being set to 0.0 in labels with no predicted samples. Use `zero_division` parameter to control this behavior.\n",
      "  _warn_prf(average, modifier, f\"{metric.capitalize()} is\", len(result))\n",
      "C:\\WPy64-31220\\python-3.12.2.amd64\\Lib\\site-packages\\sklearn\\ensemble\\_weight_boosting.py:519: FutureWarning: The SAMME.R algorithm (the default) is deprecated and will be removed in 1.6. Use the SAMME algorithm to circumvent this warning.\n",
      "  warnings.warn(\n",
      "C:\\WPy64-31220\\python-3.12.2.amd64\\Lib\\site-packages\\sklearn\\metrics\\_classification.py:1497: UndefinedMetricWarning: Precision is ill-defined and being set to 0.0 in labels with no predicted samples. Use `zero_division` parameter to control this behavior.\n",
      "  _warn_prf(average, modifier, f\"{metric.capitalize()} is\", len(result))\n",
      "C:\\WPy64-31220\\python-3.12.2.amd64\\Lib\\site-packages\\sklearn\\metrics\\_classification.py:1497: UndefinedMetricWarning: Precision is ill-defined and being set to 0.0 in labels with no predicted samples. Use `zero_division` parameter to control this behavior.\n",
      "  _warn_prf(average, modifier, f\"{metric.capitalize()} is\", len(result))\n",
      "C:\\WPy64-31220\\python-3.12.2.amd64\\Lib\\site-packages\\sklearn\\metrics\\_classification.py:1497: UndefinedMetricWarning: Precision is ill-defined and being set to 0.0 in labels with no predicted samples. Use `zero_division` parameter to control this behavior.\n",
      "  _warn_prf(average, modifier, f\"{metric.capitalize()} is\", len(result))\n"
     ]
    }
   ],
   "source": [
    "# تخزين نتائج الأداء\n",
    "results = {}\n",
    "\n",
    "for name, model in models.items():\n",
    "    print(f\"Training {name}...\")\n",
    "    model.fit(X_train_tfidf, y_train)  # تدريب النموذج\n",
    "    y_pred = model.predict(X_test_tfidf)  # إجراء التنبؤات\n",
    "    accuracy = accuracy_score(y_test, y_pred)  # حساب الدقة\n",
    "    results[name] = accuracy\n",
    "    print(f\"{name} Accuracy: {accuracy:.5f}\\n\")\n",
    "    print(classification_report(y_test, y_pred))"
   ]
  },
  {
   "cell_type": "code",
   "execution_count": 125,
   "id": "5b873523-224e-461c-b220-659784bdc5ff",
   "metadata": {},
   "outputs": [
    {
     "name": "stdout",
     "output_type": "stream",
     "text": [
      "Best Model: KNN with Accuracy: 0.7000\n"
     ]
    }
   ],
   "source": [
    "# 5. عرض النموذج الأفضل\n",
    "best_model = max(results, key=results.get)\n",
    "print(f\"Best Model: {best_model} with Accuracy: {results[best_model]:.4f}\")"
   ]
  },
  {
   "cell_type": "code",
   "execution_count": null,
   "id": "a447c507-2027-40be-b3d4-17519d47dc69",
   "metadata": {},
   "outputs": [],
   "source": []
  }
 ],
 "metadata": {
  "kernelspec": {
   "display_name": "Python 3 (ipykernel)",
   "language": "python",
   "name": "python3"
  },
  "language_info": {
   "codemirror_mode": {
    "name": "ipython",
    "version": 3
   },
   "file_extension": ".py",
   "mimetype": "text/x-python",
   "name": "python",
   "nbconvert_exporter": "python",
   "pygments_lexer": "ipython3",
   "version": "3.12.2"
  }
 },
 "nbformat": 4,
 "nbformat_minor": 5
}
